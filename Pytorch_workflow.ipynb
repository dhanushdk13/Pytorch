{
  "nbformat": 4,
  "nbformat_minor": 0,
  "metadata": {
    "colab": {
      "provenance": []
    },
    "kernelspec": {
      "name": "python3",
      "display_name": "Python 3"
    },
    "language_info": {
      "name": "python"
    }
  },
  "cells": [
    {
      "cell_type": "code",
      "execution_count": null,
      "metadata": {
        "id": "j55PIyzxegPi"
      },
      "outputs": [],
      "source": [
        "import torch\n",
        "import pandas as pd\n",
        "import numpy as np\n",
        "import matplotlib.pyplot as plt"
      ]
    },
    {
      "cell_type": "markdown",
      "source": [
        "nn consists of all of PyTorch's building blocks for neural networks"
      ],
      "metadata": {
        "id": "Um1jdR6XiR34"
      }
    },
    {
      "cell_type": "code",
      "source": [
        "from torch import nn"
      ],
      "metadata": {
        "id": "3r1Cu8CoiatV"
      },
      "execution_count": null,
      "outputs": []
    },
    {
      "cell_type": "markdown",
      "source": [
        "### 1. Preparing data and loading\n",
        "\n",
        "diff types of data :\n",
        " -spreadsheet\n",
        " -Image\n",
        " -Vid\n",
        " -Audio\n",
        " -DNA\n",
        " -Text\n",
        "\n",
        " Creating data using linear regression"
      ],
      "metadata": {
        "id": "fO5gf6criqTE"
      }
    },
    {
      "cell_type": "code",
      "source": [
        "# Create *known* parameters\n",
        "weight = 0.7 \n",
        "bias = 0.3\n",
        "\n",
        "#Create\n",
        "start = 0\n",
        "end = 1\n",
        "step = 0.02\n",
        "X = torch.arange(start,end,step).unsqueeze(dim=1)\n",
        "y= weight*X + bias\n",
        "\n",
        "X[:10],y[:10]"
      ],
      "metadata": {
        "colab": {
          "base_uri": "https://localhost:8080/"
        },
        "id": "b1j_HdYYi91M",
        "outputId": "5c082be9-fe54-4879-c742-e3bb2cfffc79"
      },
      "execution_count": null,
      "outputs": [
        {
          "output_type": "execute_result",
          "data": {
            "text/plain": [
              "(tensor([[0.0000],\n",
              "         [0.0200],\n",
              "         [0.0400],\n",
              "         [0.0600],\n",
              "         [0.0800],\n",
              "         [0.1000],\n",
              "         [0.1200],\n",
              "         [0.1400],\n",
              "         [0.1600],\n",
              "         [0.1800]]), tensor([[0.3000],\n",
              "         [0.3140],\n",
              "         [0.3280],\n",
              "         [0.3420],\n",
              "         [0.3560],\n",
              "         [0.3700],\n",
              "         [0.3840],\n",
              "         [0.3980],\n",
              "         [0.4120],\n",
              "         [0.4260]]))"
            ]
          },
          "metadata": {},
          "execution_count": 3
        }
      ]
    },
    {
      "cell_type": "markdown",
      "source": [
        "### Splitting data into training and test sets"
      ],
      "metadata": {
        "id": "Nu1l_H0HlmYb"
      }
    },
    {
      "cell_type": "code",
      "source": [
        "# Create a train test split\n",
        "train_split = int(0.8*len(X))\n",
        "X_train,y_train = X[:train_split],y[:train_split]\n",
        "X_test,y_test = X[train_split:],y[train_split:]\n",
        "\n",
        "len(X_train),len(y_train),len(X_test),len(y_test)"
      ],
      "metadata": {
        "colab": {
          "base_uri": "https://localhost:8080/"
        },
        "id": "3YxGlkuFlrlz",
        "outputId": "03b94617-329c-4d8b-8188-c8a61d90d6f6"
      },
      "execution_count": null,
      "outputs": [
        {
          "output_type": "execute_result",
          "data": {
            "text/plain": [
              "(40, 40, 10, 10)"
            ]
          },
          "metadata": {},
          "execution_count": 18
        }
      ]
    },
    {
      "cell_type": "markdown",
      "source": [
        "Using matplotlib to visualize data"
      ],
      "metadata": {
        "id": "jO92l1TGpyQu"
      }
    },
    {
      "cell_type": "code",
      "source": [
        "def plot_predictions(train_data=X_train, train_labels=y_train, test_data=X_test, test_labels=y_test, predictions=None):\n",
        "  plt.figure(figsize=(10,7))\n",
        "  #plotting training data in blue\n",
        "  plt.scatter(train_data, train_labels, c='b', s=4, label=\"Training dataset\")\n",
        "  #test data in green\n",
        "  plt.scatter(test_data, test_labels, c='g', s=4, label=\"Testing dataset\")\n",
        "\n",
        "  #for the predictions\n",
        "  if predictions is not None:\n",
        "    plt.scatter(test_data,predictions,c=\"r\",s=4,label=\"Predictions\")\n",
        "\n",
        "  #show the legend\n",
        "  plt.legend(prop={\"size\":14});"
      ],
      "metadata": {
        "id": "zPdLkz2Ap5Ru"
      },
      "execution_count": null,
      "outputs": []
    },
    {
      "cell_type": "code",
      "source": [
        "plot_predictions()"
      ],
      "metadata": {
        "colab": {
          "base_uri": "https://localhost:8080/",
          "height": 428
        },
        "id": "1bZ9fYouzH6o",
        "outputId": "509499d6-c924-4219-a6e6-286e9ebb80ec"
      },
      "execution_count": null,
      "outputs": [
        {
          "output_type": "display_data",
          "data": {
            "text/plain": [
              "<Figure size 720x504 with 1 Axes>"
            ],
            "image/png": "[encoded data removed]"
          },
          "metadata": {
            "needs_background": "light"
          }
        }
      ]
    },
    {
      "cell_type": "code",
      "source": [
        "# Create linear regression model class\n",
        "class LinearRegressionModel(nn.Module): #majority of things are inherited in nn.module\n",
        "  def __init__(self):\n",
        "    super().__init__()\n",
        "    self.weights = nn.Parameter(torch.randn(1,\n",
        "                                            requires_grad=True,#uses gradient descent algorithm\n",
        "                                            dtype=torch.float))\n",
        "    self.bias = nn.Parameter(torch.randn(1,\n",
        "                                         requires_grad=True,\n",
        "                                         dtype=torch.float))\n",
        "    #forward method to define the computation in the model\n",
        "  def forward(self, x:torch.Tensor)-> torch.Tensor:\n",
        "    return self.weights * x + self.bias"
      ],
      "metadata": {
        "id": "Xk-yAcezzcs1"
      },
      "execution_count": null,
      "outputs": []
    },
    {
      "cell_type": "markdown",
      "source": [
        "### Pytorch model building essentials\n",
        "\n",
        "* torch.nn\n",
        "* torch.nn.Parameter\n",
        "* torch.nn.Module - requires forward method to be written\n",
        "* torch.optim - for optimizers in Python , help with gradient descent\n"
      ],
      "metadata": {
        "id": "E8bvSKs3n8EE"
      }
    },
    {
      "cell_type": "code",
      "source": [
        "# Create a random seed\n",
        "torch.manual_seed(42)\n",
        "\n",
        "#create an instance of the model\n",
        "model_0 = LinearRegressionModel()\n",
        "\n",
        "# Check out the parameters\n",
        "list(model_0.parameters())\n"
      ],
      "metadata": {
        "colab": {
          "base_uri": "https://localhost:8080/"
        },
        "id": "BnyjwKVupfXO",
        "outputId": "7aec40dd-d553-473c-ca6d-0663d585adec"
      },
      "execution_count": null,
      "outputs": [
        {
          "output_type": "execute_result",
          "data": {
            "text/plain": [
              "[Parameter containing:\n",
              " tensor([0.3367], requires_grad=True), Parameter containing:\n",
              " tensor([0.1288], requires_grad=True)]"
            ]
          },
          "metadata": {},
          "execution_count": 38
        }
      ]
    },
    {
      "cell_type": "code",
      "source": [
        "#List named params\n",
        "model_0.state_dict()"
      ],
      "metadata": {
        "colab": {
          "base_uri": "https://localhost:8080/"
        },
        "id": "OR0Livc_pdua",
        "outputId": "f73689f6-07aa-4177-b836-9852ae68a738"
      },
      "execution_count": null,
      "outputs": [
        {
          "output_type": "execute_result",
          "data": {
            "text/plain": [
              "OrderedDict([('weights', tensor([0.3367])), ('bias', tensor([0.1288]))])"
            ]
          },
          "metadata": {},
          "execution_count": 39
        }
      ]
    },
    {
      "cell_type": "markdown",
      "source": [
        "### making predictions using torch.inference_mode()\n",
        "to check model's predictive power"
      ],
      "metadata": {
        "id": "7V5y0kTzsW3p"
      }
    },
    {
      "cell_type": "code",
      "source": [
        "with torch.inference_mode():\n",
        "  y_preds=model_0(X_test)\n",
        "\n",
        "y_preds"
      ],
      "metadata": {
        "colab": {
          "base_uri": "https://localhost:8080/"
        },
        "id": "odMX2H27sjgT",
        "outputId": "4f4f78a7-40df-4239-ef38-f089a854d451"
      },
      "execution_count": null,
      "outputs": [
        {
          "output_type": "execute_result",
          "data": {
            "text/plain": [
              "tensor([[0.3982],\n",
              "        [0.4049],\n",
              "        [0.4116],\n",
              "        [0.4184],\n",
              "        [0.4251],\n",
              "        [0.4318],\n",
              "        [0.4386],\n",
              "        [0.4453],\n",
              "        [0.4520],\n",
              "        [0.4588]])"
            ]
          },
          "metadata": {},
          "execution_count": 40
        }
      ]
    },
    {
      "cell_type": "code",
      "source": [
        "plot_predictions(predictions=y_preds)"
      ],
      "metadata": {
        "colab": {
          "base_uri": "https://localhost:8080/",
          "height": 428
        },
        "id": "cJMAJj7ruCzJ",
        "outputId": "16102ec3-81d5-4391-93ca-5c31506e327f"
      },
      "execution_count": null,
      "outputs": [
        {
          "output_type": "display_data",
          "data": {
            "text/plain": [
              "<Figure size 720x504 with 1 Axes>"
            ],
            "image/png": "[encoded data removed]"
          },
          "metadata": {
            "needs_background": "light"
          }
        }
      ]
    },
    {
      "cell_type": "code",
      "source": [
        "#Loss Function - to measure how wrong our models prediction is to the ideal output\n",
        "#Optimizer: takes into account the loss of a model and adjusts the model's params\n",
        "#nn.L1Loss- helps calculate mean absolute error"
      ],
      "metadata": {
        "id": "WzEj1e1Auj2u"
      },
      "execution_count": null,
      "outputs": []
    },
    {
      "cell_type": "code",
      "source": [
        "# Setup a loss a function\n",
        "loss_fn = nn.L1Loss()\n",
        "\n",
        "\n",
        "# Setup an optimizer (stochastic gradient descent)\n",
        "optimizer = torch.optim.SGD(params=model_0.parameters(),lr=0.01)"
      ],
      "metadata": {
        "id": "h0iDTyT5w_SM"
      },
      "execution_count": null,
      "outputs": []
    },
    {
      "cell_type": "markdown",
      "source": [
        "### Building a training loop\n",
        "0. Loop through the data\n",
        "1. Forward pass (involves data moving through our model's forward() function's)\n",
        "2.Calculate the loss (compare forward pass predictions to ground truth labels)\n",
        "3.Optimizer Zero grad\n",
        "4.Loss backward - move backwards through the network to calculate the gradients of each of the parameters of our model WRT the loss(back propagation)\n",
        "5. Optimizer step - use the optimizer to adjust our model's parameters to try and improve the loss(Gradient Descent)\n",
        " "
      ],
      "metadata": {
        "id": "YGJBtVK8tX5k"
      }
    },
    {
      "cell_type": "code",
      "source": [
        "torch.manual_seed(42)\n",
        "\n",
        "# epoch is one loop through the data\n",
        "epochs=200\n",
        "epoch_count=[]\n",
        "loss_values=[]\n",
        "test_loss_values=[]\n",
        "for epochs in range(epochs):\n",
        "  # set the model to training mode\n",
        "  model_0.train()\n",
        "\n",
        "  # 1. Forward pass\n",
        "  y_pred = model_0(X_train)\n",
        "\n",
        "  # 2. calculate the loss\n",
        "  loss = loss_fn(y_pred,y_train)\n",
        "\n",
        "  #Optimizer 0 grad\n",
        "  optimizer.zero_grad()\n",
        "\n",
        "  #4. perform back propogation\n",
        "  loss.backward()\n",
        "\n",
        "  #5. step the optimizer\n",
        "  optimizer.step()\n",
        "\n",
        "  model_0.eval() # turns off settings in model not needed for evaluation\n",
        "  with torch.inference_mode():#turns off gradient tracking\n",
        "    #1 - forward pass\n",
        "    test_pred = model_0(X_test)\n",
        "\n",
        "    #2- loss function\n",
        "    test_loss = loss_fn(test_pred, y_test)\n",
        "    #as we can see in testing we compare to the actual values to check how close to 0 the test loss is\n",
        "    #we dont implement bactracking here as that's only meant for training data\n",
        "  if epochs%10 ==0:\n",
        "    print(f\"Epoch: {epochs} | loss:{loss} | Test loss: {test_loss}\")\n",
        "    print(model_0.state_dict())\n",
        "    epoch_count.append(epochs)\n",
        "    loss_values.append(loss)\n",
        "    test_loss_values.append(test_loss)\n",
        "\n",
        "  \n",
        "  \n"
      ],
      "metadata": {
        "colab": {
          "base_uri": "https://localhost:8080/"
        },
        "id": "eeqyt3yMCPwz",
        "outputId": "5f5c501f-d74e-4539-e65e-0cae88e52576"
      },
      "execution_count": null,
      "outputs": [
        {
          "output_type": "stream",
          "name": "stdout",
          "text": [
            "Epoch: 0 | loss:0.31288138031959534 | Test loss: 0.48106518387794495\n",
            "OrderedDict([('weights', tensor([0.3406])), ('bias', tensor([0.1388]))])\n",
            "Epoch: 10 | loss:0.1976713240146637 | Test loss: 0.3463551998138428\n",
            "OrderedDict([('weights', tensor([0.3796])), ('bias', tensor([0.2388]))])\n",
            "Epoch: 20 | loss:0.08908725529909134 | Test loss: 0.21729660034179688\n",
            "OrderedDict([('weights', tensor([0.4184])), ('bias', tensor([0.3333]))])\n",
            "Epoch: 30 | loss:0.053148526698350906 | Test loss: 0.14464017748832703\n",
            "OrderedDict([('weights', tensor([0.4512])), ('bias', tensor([0.3768]))])\n",
            "Epoch: 40 | loss:0.04543796554207802 | Test loss: 0.11360953003168106\n",
            "OrderedDict([('weights', tensor([0.4748])), ('bias', tensor([0.3868]))])\n",
            "Epoch: 50 | loss:0.04167863354086876 | Test loss: 0.09919948130846024\n",
            "OrderedDict([('weights', tensor([0.4938])), ('bias', tensor([0.3843]))])\n",
            "Epoch: 60 | loss:0.03818932920694351 | Test loss: 0.08886633068323135\n",
            "OrderedDict([('weights', tensor([0.5116])), ('bias', tensor([0.3788]))])\n",
            "Epoch: 70 | loss:0.03476089984178543 | Test loss: 0.0805937647819519\n",
            "OrderedDict([('weights', tensor([0.5288])), ('bias', tensor([0.3718]))])\n",
            "Epoch: 80 | loss:0.03132382780313492 | Test loss: 0.07232122868299484\n",
            "OrderedDict([('weights', tensor([0.5459])), ('bias', tensor([0.3648]))])\n",
            "Epoch: 90 | loss:0.02788739837706089 | Test loss: 0.06473556160926819\n",
            "OrderedDict([('weights', tensor([0.5629])), ('bias', tensor([0.3573]))])\n",
            "Epoch: 100 | loss:0.024458957836031914 | Test loss: 0.05646304413676262\n",
            "OrderedDict([('weights', tensor([0.5800])), ('bias', tensor([0.3503]))])\n",
            "Epoch: 110 | loss:0.021020207554101944 | Test loss: 0.04819049686193466\n",
            "OrderedDict([('weights', tensor([0.5972])), ('bias', tensor([0.3433]))])\n",
            "Epoch: 120 | loss:0.01758546568453312 | Test loss: 0.04060482233762741\n",
            "OrderedDict([('weights', tensor([0.6141])), ('bias', tensor([0.3358]))])\n",
            "Epoch: 130 | loss:0.014155393466353416 | Test loss: 0.03233227878808975\n",
            "OrderedDict([('weights', tensor([0.6313])), ('bias', tensor([0.3288]))])\n",
            "Epoch: 140 | loss:0.010716589167714119 | Test loss: 0.024059748277068138\n",
            "OrderedDict([('weights', tensor([0.6485])), ('bias', tensor([0.3218]))])\n",
            "Epoch: 150 | loss:0.0072835334576666355 | Test loss: 0.016474086791276932\n",
            "OrderedDict([('weights', tensor([0.6654])), ('bias', tensor([0.3143]))])\n",
            "Epoch: 160 | loss:0.0038517764769494534 | Test loss: 0.008201557211577892\n",
            "OrderedDict([('weights', tensor([0.6826])), ('bias', tensor([0.3073]))])\n",
            "Epoch: 170 | loss:0.008932482451200485 | Test loss: 0.005023092031478882\n",
            "OrderedDict([('weights', tensor([0.6951])), ('bias', tensor([0.2993]))])\n",
            "Epoch: 180 | loss:0.008932482451200485 | Test loss: 0.005023092031478882\n",
            "OrderedDict([('weights', tensor([0.6951])), ('bias', tensor([0.2993]))])\n",
            "Epoch: 190 | loss:0.008932482451200485 | Test loss: 0.005023092031478882\n",
            "OrderedDict([('weights', tensor([0.6951])), ('bias', tensor([0.2993]))])\n"
          ]
        }
      ]
    },
    {
      "cell_type": "code",
      "source": [
        "with torch.inference_mode():\n",
        "  y_preds_new = model_0(X_test)"
      ],
      "metadata": {
        "id": "dB7Fzct9KjJ_"
      },
      "execution_count": null,
      "outputs": []
    },
    {
      "cell_type": "code",
      "source": [
        "plot_predictions(predictions=y_preds_new)"
      ],
      "metadata": {
        "colab": {
          "base_uri": "https://localhost:8080/",
          "height": 428
        },
        "id": "lhDXjjhwK4v0",
        "outputId": "d2618ebf-c234-43fa-c497-157e1aa502f2"
      },
      "execution_count": null,
      "outputs": [
        {
          "output_type": "display_data",
          "data": {
            "text/plain": [
              "<Figure size 720x504 with 1 Axes>"
            ],
            "image/png": "[encoded data removed]"
          },
          "metadata": {
            "needs_background": "light"
          }
        }
      ]
    },
    {
      "cell_type": "code",
      "source": [
        "# plotting the loss curves\n",
        "plt.plot(epoch_count,np.array(torch.tensor(loss_values).numpy()),label=\"Train Loss\")\n",
        "plt.plot(epoch_count,test_loss_values,label=\"Test Loss\")\n",
        "plt.title(\"Training and testing loss\")\n",
        "plt.xlabel(\"epochs\")\n",
        "plt.ylabel(\"loss\")\n",
        "plt.legend()\n"
      ],
      "metadata": {
        "colab": {
          "base_uri": "https://localhost:8080/",
          "height": 312
        },
        "id": "ic6OAcPVrQP_",
        "outputId": "2acb0989-52c3-4b91-cc1e-0a0603a65a10"
      },
      "execution_count": null,
      "outputs": [
        {
          "output_type": "execute_result",
          "data": {
            "text/plain": [
              "<matplotlib.legend.Legend at 0x7fc89d3335b0>"
            ]
          },
          "metadata": {},
          "execution_count": 49
        },
        {
          "output_type": "display_data",
          "data": {
            "text/plain": [
              "<Figure size 432x288 with 1 Axes>"
            ],
            "image/png": "[encoded data removed]"
          },
          "metadata": {
            "needs_background": "light"
          }
        }
      ]
    },
    {
      "cell_type": "markdown",
      "source": [
        "### Saving model in pytorch\n",
        "There are 3 main methods\n",
        "1. 'torch.save()'-save pytorch object in python's pickle format\n",
        "2. 'torch.load()'-loads saved pytorch object\n",
        "3. 'torch.nn.Module.load_state_dict()'- loads a models saved dictionary\n"
      ],
      "metadata": {
        "id": "UKB3gRE-zIbZ"
      }
    },
    {
      "cell_type": "code",
      "source": [],
      "metadata": {
        "id": "XItwUNjRz6Gb"
      },
      "execution_count": null,
      "outputs": []
    }
  ]
}